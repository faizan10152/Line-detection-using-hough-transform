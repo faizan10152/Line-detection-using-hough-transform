{
 "cells": [
  {
   "cell_type": "markdown",
   "id": "700e9fb9",
   "metadata": {},
   "source": [
    "# Importing Libraries"
   ]
  },
  {
   "cell_type": "code",
   "execution_count": 1,
   "id": "8edfb0ea",
   "metadata": {},
   "outputs": [],
   "source": [
    "from matplotlib import pyplot as plt\n",
    "import numpy as np\n",
    "import math\n",
    "import cv2"
   ]
  },
  {
   "cell_type": "markdown",
   "id": "b6becd0f",
   "metadata": {},
   "source": [
    "# Hough transform function"
   ]
  },
  {
   "cell_type": "code",
   "execution_count": 2,
   "id": "6dfe66d0",
   "metadata": {},
   "outputs": [],
   "source": [
    "def hough_line(edge):\n",
    "    # Theta 0 - 180 degree\n",
    "    # Calculate 'cos' and 'sin' value ahead to improve running time\n",
    "    theta = np.arange(0, 180, 1)\n",
    "    cos = np.cos(np.deg2rad(theta))\n",
    "    sin = np.sin(np.deg2rad(theta))\n",
    "\n",
    "    # Generate a accumulator matrix to store the values\n",
    "    rho_range = round(math.sqrt(edge.shape[0]**2 + edge.shape[1]**2))\n",
    "    accumulator = np.zeros((rho_range, len(theta)), dtype=np.uint8)\n",
    "\n",
    "    # Threshold to get edges pixel location (x,y)\n",
    "    edge_pixels = np.where(edge == 255)\n",
    "    coordinates = list(zip(edge_pixels[0], edge_pixels[1]))\n",
    "\n",
    "    # Calculate rho value for each edge location (x,y) with all the theta range\n",
    "    for p in range(len(coordinates)):\n",
    "        for t in range(len(theta)):\n",
    "            rho = int(round(coordinates[p][1] * cos[t] + coordinates[p][0] * sin[t]))\n",
    "            accumulator[rho, t] += 1 # Suppose add 1 only, Just want to get clear result\n",
    "\n",
    "    return accumulator"
   ]
  },
  {
   "cell_type": "markdown",
   "id": "3225803b",
   "metadata": {},
   "source": [
    "# Main function"
   ]
  },
  {
   "cell_type": "code",
   "execution_count": 35,
   "id": "97309389",
   "metadata": {
    "scrolled": true
   },
   "outputs": [],
   "source": [
    "def detect_lines(image_name):\n",
    "    image = cv2.imread(image_name)\n",
    "    grayscale = cv2.cvtColor(image, cv2.COLOR_BGR2GRAY)\n",
    "    thres_1 = 100\n",
    "    thres_2 = 200\n",
    "    edges = cv2.Canny(grayscale,thres_1,thres_2)\n",
    "\n",
    "    # Function to do hough line transform\n",
    "    accumulator = hough_line(edges)\n",
    "\n",
    "    threshold  = 60\n",
    "    x,y = accumulator.shape\n",
    "    acc_values = np.array([np.amax(accumulator)])\n",
    "    for i in range(0,x):\n",
    "        for j in range(0,y):\n",
    "            if accumulator[i,j] > threshold :\n",
    "                acc_values = np.append(acc_values,accumulator[i,j])\n",
    "    # Threshold some high values then draw the line\n",
    "    edge_pixels = np.where(accumulator > threshold)\n",
    "    coordinates = list(zip(edge_pixels[0], edge_pixels[1]))\n",
    "\n",
    "    # Use line equation to draw detected line on an original image\n",
    "    for i in range(0, len(coordinates)):\n",
    "        a = np.cos(np.deg2rad(coordinates[i][1]))\n",
    "        b = np.sin(np.deg2rad(coordinates[i][1]))\n",
    "        x0 = a*coordinates[i][0]\n",
    "        y0 = b*coordinates[i][0]\n",
    "        x1 = int(x0 + 1000*(-b))\n",
    "        y1 = int(y0 + 1000*(a))\n",
    "        x2 = int(x0 - 1000*(-b))\n",
    "        y2 = int(y0 - 1000*(a))\n",
    "\n",
    "        cv2.line(image,(x1,y1),(x2,y2),(0,255,0),1)\n",
    "\n",
    "    # show result\n",
    "    cv2.imshow('edges',edges)\n",
    "    cv2.imshow('image', image)\n",
    "    cv2.imshow('accumulator',accumulator)\n",
    "    k = cv2.waitKey(0)\n",
    "    cv2.destroyAllWindows()\n",
    "\n",
    "    shortest_line = np.amin(acc_values)\n",
    "    longest_line = np.amax(acc_values)\n",
    "    print(' Total number of lines : ',len(acc_values)+1)\n",
    "    print('Length of shortest line : ',shortest_line)\n",
    "    print('Length of longest line : ',longest_line)\n",
    "    return "
   ]
  },
  {
   "cell_type": "code",
   "execution_count": 36,
   "id": "d83a7b8b",
   "metadata": {},
   "outputs": [
    {
     "name": "stdout",
     "output_type": "stream",
     "text": [
      " Total number of lines :  51\n",
      "Length of shortest line :  61\n",
      "Length of longest line :  254\n"
     ]
    }
   ],
   "source": [
    "image_name = 'aa016560.jpg'     \n",
    "detect_lines(image_name)"
   ]
  },
  {
   "cell_type": "markdown",
   "id": "759df54e",
   "metadata": {},
   "source": [
    "# Using opencv built-in function"
   ]
  },
  {
   "cell_type": "code",
   "execution_count": 4,
   "id": "536b65ba",
   "metadata": {},
   "outputs": [],
   "source": [
    "import cv2\n",
    "import numpy as np\n",
    "\n",
    "img = cv2.imread('5_sgw9.jpg')\n",
    "gray = cv2.cvtColor(img, cv2.COLOR_BGR2GRAY)\n",
    "edges = cv2.Canny(gray, 400, 800, apertureSize=3)\n",
    "imS_edges = cv2.resize(edges, (960, 540))\n",
    "cv2.imshow('edges', imS_edges)\n",
    "lines = cv2.HoughLines(edges, 1, np.pi / 180, 100)\n",
    "\n",
    "for line in lines:\n",
    "    rho,theta = line[0]\n",
    "    a = np.cos(theta)\n",
    "    b = np.sin(theta)\n",
    "    x0 = a * rho\n",
    "    y0 = b * rho\n",
    "    # x1 stores the rounded off value of (r * cos(theta) - 1000 * sin(theta))\n",
    "    x1 = int(x0 + 10000 * (-b))\n",
    "    # y1 stores the rounded off value of (r * sin(theta)+ 1000 * cos(theta))\n",
    "    y1 = int(y0 + 10000 * (a))\n",
    "    # x2 stores the rounded off value of (r * cos(theta)+ 1000 * sin(theta))\n",
    "    x2 = int(x0 - 10000 * (-b))\n",
    "    # y2 stores the rounded off value of (r * sin(theta)- 1000 * cos(theta))\n",
    "    y2 = int(y0 - 10000 * (a))\n",
    "    cv2.line(img, (x1, y1), (x2, y2), (0, 0, 255), 2)\n",
    "\n",
    "imS = cv2.resize(img, (960, 540))\n",
    "cv2.imshow('image', imS)\n",
    "k = cv2.waitKey(0)\n",
    "cv2.destroyAllWindows()"
   ]
  },
  {
   "cell_type": "code",
   "execution_count": 132,
   "id": "7941560f",
   "metadata": {},
   "outputs": [],
   "source": []
  },
  {
   "cell_type": "code",
   "execution_count": null,
   "id": "8c7dbc45",
   "metadata": {},
   "outputs": [],
   "source": [
    "\n",
    "\n"
   ]
  },
  {
   "cell_type": "code",
   "execution_count": null,
   "id": "aa9e0181",
   "metadata": {},
   "outputs": [],
   "source": []
  }
 ],
 "metadata": {
  "kernelspec": {
   "display_name": "Python 3",
   "language": "python",
   "name": "python3"
  },
  "language_info": {
   "codemirror_mode": {
    "name": "ipython",
    "version": 3
   },
   "file_extension": ".py",
   "mimetype": "text/x-python",
   "name": "python",
   "nbconvert_exporter": "python",
   "pygments_lexer": "ipython3",
   "version": "3.8.8"
  }
 },
 "nbformat": 4,
 "nbformat_minor": 5
}
